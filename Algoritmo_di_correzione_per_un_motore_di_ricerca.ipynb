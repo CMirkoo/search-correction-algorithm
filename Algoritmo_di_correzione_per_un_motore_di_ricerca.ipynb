{
  "nbformat": 4,
  "nbformat_minor": 0,
  "metadata": {
    "colab": {
      "provenance": [],
      "toc_visible": true
    },
    "kernelspec": {
      "name": "python3",
      "display_name": "Python 3"
    },
    "language_info": {
      "name": "python"
    }
  },
  "cells": [
    {
      "cell_type": "markdown",
      "source": [
        "# Progetto: Un algoritmo di correzione per un motore di ricerca"
      ],
      "metadata": {
        "id": "ca1n9QvHMJoB"
      }
    },
    {
      "cell_type": "markdown",
      "source": [
        "## Problema"
      ],
      "metadata": {
        "id": "LfWskkmtnoNW"
      }
    },
    {
      "cell_type": "markdown",
      "source": [
        "Il problema principale di Searchify è che molti utenti commettono errori di digitazione durante l'inserimento delle parole chiave. Questi errori causano risultati di ricerca nulli o non pertinenti, portando a insoddisfazione tra gli utenti. Ad esempio, se un utente cerca \"raporto vendite 2023\" invece di \"rapporto vendite 2023\", il motore di ricerca non restituisce alcun risultato."
      ],
      "metadata": {
        "id": "8C-rP7JqnqTJ"
      }
    },
    {
      "cell_type": "markdown",
      "source": [
        "## Obiettivo del progetto:"
      ],
      "metadata": {
        "id": "edJj1OVUnBFY"
      }
    },
    {
      "cell_type": "markdown",
      "source": [
        "L'obiettivo è sviluppare un algoritmo di correzione automatica per il motore di ricerca di Searchify. Questo algoritmo dovrà:\n",
        "\n",
        "1. Rilevare automaticamente gli errori di digitazione o le parole non valide.\n",
        "2. Suggerire la parola corretta più probabile.\n",
        "3. Restituire risultati pertinenti basati sulla correzione suggerita.\n",
        "\n",
        "L'implementazione di questa funzionalità migliorerà notevolmente l'esperienza utente, aumentando l'efficienza del motore di ricerca e la soddisfazione dei clienti."
      ],
      "metadata": {
        "id": "gsIoS9mvnDct"
      }
    },
    {
      "cell_type": "markdown",
      "source": [
        "## Benefici del progetto:\n"
      ],
      "metadata": {
        "id": "pSs321ew_SOm"
      }
    },
    {
      "cell_type": "markdown",
      "source": [
        "- **Miglioramento dell'accuratezza:** Riduzione degli errori di ricerca dovuti a digitazioni errate.\n",
        "- **Incremento della produttività:** Gli utenti troveranno le informazioni più velocemente.\n",
        "- **Aumento della fedeltà dei clienti:** Un'esperienza utente più fluida e soddisfacente porterà a una maggiore adozione del prodotto."
      ],
      "metadata": {
        "id": "W1Lya1hK_awh"
      }
    },
    {
      "cell_type": "markdown",
      "source": [
        "---"
      ],
      "metadata": {
        "id": "gIocxZDUNEwX"
      }
    },
    {
      "cell_type": "markdown",
      "source": [
        "## Codice:"
      ],
      "metadata": {
        "id": "VZ-i5iCEMR-W"
      }
    },
    {
      "cell_type": "code",
      "source": [
        "def _Levenshtein_distance(word1,word2): # Funzione per la distanza di Levenshtein\n",
        "\n",
        "    m = len(word1)\n",
        "    n = len(word2)\n",
        "\n",
        "    matrix = [[0 for _ in range(n+1)] for _ in range(m+1)] # Creo la matrice con tutti i valori a 0\n",
        "\n",
        "    # inizializando la prima riga e colonna\n",
        "    for i in range(1, m+1):\n",
        "        matrix[i][0] = i\n",
        "    for j in range(1, n+1):\n",
        "        matrix[0][j] = j\n",
        "\n",
        "    # riempimento della matrice\n",
        "    for i in range(1, m+1):\n",
        "        for j in range(1, n+1):\n",
        "            if (word1[i-1] == word2[j-1]): # nessun costo se i caratteri sono uguali\n",
        "                matrix[i][j] = matrix[i-1][j-1]\n",
        "            else: # calcolo del costo minimo\n",
        "                matrix[i][j] = min(\n",
        "                    matrix[i-1][j], # Rimozione\n",
        "                    matrix[i][j-1], # Inserimento\n",
        "                    matrix[i-1][j-1] # Sostituzione\n",
        "                ) + 1\n",
        "\n",
        "    return matrix[m][n]\n",
        "\n",
        "\n",
        "def suggest_correction(query, dictionary): # Funzione che suggerisce la parola migliore o la stessa\n",
        "\n",
        "    if query in dictionary:\n",
        "        return query\n",
        "\n",
        "    min_distance= float('inf') # inizialmente la distanza minima è infinita\n",
        "    best_correction = None # non esiste ancora una miglior parola\n",
        "\n",
        "    for word in dictionary: # itera su tutte la parole della lista\n",
        "        distance = _Levenshtein_distance(query, word) # calcola la distanza\n",
        "        if distance < min_distance: # Se questa distanza è minore della minima trovata finora:\n",
        "            min_distance = distance # Aggiorna la distanza minima\n",
        "            best_correction = word # Aggiorna la parola migliore\n",
        "\n",
        "    return \"La parola da te inserita non esiste la più simile a: '%s' è '%s' con una distanza di: %s.\" % (query, best_correction, min_distance) # Restituisci la parola migliore e la distanza"
      ],
      "metadata": {
        "id": "LRG8H6z9MJL2"
      },
      "execution_count": null,
      "outputs": []
    },
    {
      "cell_type": "code",
      "execution_count": null,
      "metadata": {
        "colab": {
          "base_uri": "https://localhost:8080/"
        },
        "id": "svb9y_JHLdMY",
        "outputId": "729c0c7f-3e25-404c-9110-0413aa3c66e2"
      },
      "outputs": [
        {
          "output_type": "stream",
          "name": "stdout",
          "text": [
            "Inserisci la parola: valoree\n",
            "La parola da te inserita non esiste la più simile a: 'valoree' è 'valore' con una distanza di: 1.\n"
          ]
        }
      ],
      "source": [
        "if __name__ == \"__main__\":\n",
        "\n",
        "    dictionary = {\n",
        "    \"strategia\", \"progetto\", \"marketing\", \"vendite\", \"risorse\", \"budget\", \"cliente\", \"profitto\", \"team\", \"obiettivo\",\n",
        "    \"qualità\", \"innovazione\", \"processo\", \"report\", \"analisi\", \"fornitore\", \"logistica\", \"fattura\", \"contratto\", \"scadenza\",\n",
        "    \"collega\", \"meeting\", \"agenda\", \"risultato\", \"bilancio\", \"comunicazione\", \"investimento\", \"crescita\", \"network\", \"partner\",\n",
        "    \"sviluppo\", \"produttività\", \"efficienza\", \"soluzione\", \"formazione\", \"risultati\", \"azienda\", \"servizio\", \"organizzazione\",\n",
        "    \"leadership\", \"valore\", \"mercato\", \"innovazione\", \"relazione\", \"opportunità\", \"strategico\", \"competenza\", \"tecnologia\", \"risultato\"\n",
        "    }\n",
        "\n",
        "    query = input(\"Inserisci la parola: \")\n",
        "\n",
        "    result = suggest_correction(query, dictionary)\n",
        "    print(result)"
      ]
    },
    {
      "cell_type": "markdown",
      "source": [
        "----"
      ],
      "metadata": {
        "id": "si7jir3GNCpt"
      }
    },
    {
      "cell_type": "markdown",
      "source": [
        "## Spiegazione del codice:"
      ],
      "metadata": {
        "id": "5lcpZtJv_ywQ"
      }
    },
    {
      "cell_type": "markdown",
      "source": [
        "### Il primo blocco di codice: <br>\n",
        "\n",
        "![codice](https://lh3.googleusercontent.com/pw/AP1GczPIFVRZAjRu9A3QhHg1KeV1kag_tulEozhPSWRbBqSYWlwHTbCxBCrRKf_gVKIzKIQOtbw2LUXfkrv3uFZyshNOi0FlzrY6aYSVV3OBxgkofOlsGuAVllAKuT0YoemJFtmo7Z9jhRww9HxhZ8z0r94=w752-h764-s-no-gm?authuser=0) <br>\n",
        "\n",
        "**Ci sono 2 funzioni principali:** <br>\n",
        "\n",
        "- **La prima (`_Levenshtein_distance`) calcola la distanza di Levenshtein:** <br>\n",
        "  La distanza di Levenshtein rappresenta il numero minimo di operazioni necessarie per trasformare una parola in un'altra. <br>  \n",
        "  Date due parole:  \n",
        "  - Si calcolano le loro lunghezze.  \n",
        "  - Si costruisce una matrice $m \\times n$, dove $m$ è la lunghezza della prima parola e $n$ quella della seconda. <br>\n",
        "  La prima riga e la prima colonna della matrice vengono numerate da 0 alla lunghezza della rispettiva parola. Questo permette di calcolare il costo di ogni operazione. <br>  \n",
        "\n",
        "  Le operazioni possibili sono: <br>\n",
        "  - **Sostituzione**: cambiare una lettera con un'altra.  \n",
        "  - **Inserimento**: aggiungere una lettera.  \n",
        "  - **Rimozione**: eliminare una lettera.  \n",
        "\n",
        "  Ogni operazione ha un costo. Quando due lettere non coincidono, si aggiunge un `+1`. Se invece le lettere coincidono, si riporta il valore della diagonale precedente senza aggiungere costi. <br>\n",
        "  Una volta completata la matrice, il valore nell'ultima cella indica il numero totale di operazioni necessarie per trasformare la prima stringa nella seconda. <br>  \n",
        "\n",
        "  *Ecco un'immagine riassuntiva del processo:* <br>  \n",
        "  ![operazioni](https://miro.medium.com/v2/resize:fit:1400/1*AYkR7hgpBztvNnwVB1S56Q.png) <br><br>\n",
        "\n",
        "- **La seconda (`suggest_correction`) suggerisce la parola più corretta o conferma quella inserita:** <br>\n",
        "  Questa funzione utilizza la parola fornita dall'utente e la confronta con un dizionario (una lista di parole). <br>\n",
        "  - Se la parola è già presente nel dizionario, viene restituita direttamente.  \n",
        "  - Se la parola non è presente (ad esempio, per un errore di battitura, una lettera mancante o un carattere extra), viene trovata la parola più simile. <br>  \n",
        "\n",
        "  Questo confronto viene effettuato utilizzando la funzione `_Levenshtein_distance`. Per ogni parola nel dizionario: <br>\n",
        "  - Si calcola la distanza di Levenshtein rispetto alla parola inserita.  \n",
        "  - La parola con la distanza minore viene considerata la correzione migliore.  \n",
        "\n",
        "  Alla fine, la funzione restituisce questa parola come risultato.\n"
      ],
      "metadata": {
        "id": "JzDEvmpZExpg"
      }
    },
    {
      "cell_type": "markdown",
      "source": [
        "---"
      ],
      "metadata": {
        "id": "8_564s-QgfXB"
      }
    },
    {
      "cell_type": "markdown",
      "source": [
        "### Il secondo blocco di codice:\n",
        "<br> ![codice2](https://lh3.googleusercontent.com/pw/AP1GczMOO6GPeMzNXdY7UrePr09UaqOpse8OGM5kjujVlZFDnVLO8J56KU2nSuE21lRNKlVXzetLdQr0pq3HX5-3YDmrn7kvxZtnLdFiMbDx2AJLychQ8VHUB2pr7ABNx4yylJMOazyxXUE1zeQc2JjXOaY=w837-h436-s-no-gm?authuser=0)\n",
        "<br> <br>\n",
        "Questo è il corpo principale dell'algoritmo, dove vengono utilizzate le due funzioni precedentemente descritte. <br>  \n",
        "La prima operazione consiste nella creazione del dizionario, ovvero una lista di parole. <br>  \n",
        "Successivamente, viene richiesto all'utente di inserire una parola che desidera cercare. <br>  \n",
        "\n",
        "Utilizzando la funzione `suggest_correction(query, dictionary)`, si ottiene che: <br>  \n",
        "- Il primo argomento, `query`, rappresenta la parola inserita dall'utente. <br>  \n",
        "- Il secondo argomento, `dictionary`, è il dizionario creato precedentemente. <br>  \n",
        "\n",
        "La funzione confronta la parola inserita con il dizionario per trovare la parola più corretta rispetto a quella fornita dall'utente. <br>  \n",
        "Se la parola inserita è già presente nel dizionario, viene restituita direttamente. <br>  \n",
        "In caso contrario, il programma calcola la parola più simile utilizzando l'algoritmo di Levenshtein (implementato nella funzione `_Levenshtein_distance`). <br>  \n",
        "\n",
        "Il risultato è quindi la parola corretta o suggerita, ottenuta come output della funzione. <br>\n"
      ],
      "metadata": {
        "id": "pmrq3jMLVCIo"
      }
    },
    {
      "cell_type": "markdown",
      "source": [
        "---"
      ],
      "metadata": {
        "id": "TGEMHEYNgcJg"
      }
    },
    {
      "cell_type": "markdown",
      "source": [
        "## Test Funzionamento:"
      ],
      "metadata": {
        "id": "l0Dpd03dVW1r"
      }
    },
    {
      "cell_type": "markdown",
      "source": [
        "### 1."
      ],
      "metadata": {
        "id": "yDG97rRjg7Tg"
      }
    },
    {
      "cell_type": "code",
      "source": [
        "dictionary = [\n",
        "    \"strategia\", \"progetto\", \"marketing\", \"vendite\", \"risorse\", \"budget\", \"cliente\", \"profitto\", \"team\", \"obiettivo\",\n",
        "    \"qualità\", \"innovazione\", \"processo\", \"report\", \"analisi\", \"fornitore\", \"logistica\", \"fattura\", \"contratto\", \"scadenza\",\n",
        "    \"collega\", \"meeting\", \"agenda\", \"risultato\", \"bilancio\", \"comunicazione\", \"investimento\", \"crescita\", \"network\", \"partner\",\n",
        "    \"sviluppo\", \"produttività\", \"efficienza\", \"soluzione\", \"formazione\", \"risultati\", \"azienda\", \"servizio\", \"organizzazione\",\n",
        "    \"leadership\", \"valore\", \"mercato\", \"innovazione\", \"relazione\", \"opportunità\", \"strategico\", \"competenza\", \"tecnologia\", \"risultato\"\n",
        "    ]\n",
        "\n",
        "query = input(\"Inserisci la parola: \")\n",
        "result = suggest_correction(query, dictionary)\n",
        "print(result)"
      ],
      "metadata": {
        "colab": {
          "base_uri": "https://localhost:8080/"
        },
        "id": "SrWVGi5dVYrR",
        "outputId": "ab8a9546-72f2-4ea1-f3e9-5195104f25fb"
      },
      "execution_count": null,
      "outputs": [
        {
          "output_type": "stream",
          "name": "stdout",
          "text": [
            "Inserisci la parola: efficienza\n",
            "efficienza\n"
          ]
        }
      ]
    },
    {
      "cell_type": "markdown",
      "source": [
        "**Esempio di utilizzo:** <br>  \n",
        "In questo caso, è stata inserita una parola corretta già presente nel dizionario.   \n",
        "L'output restituito dal programma è la stessa parola, confermando che non sono necessarie correzioni.\n"
      ],
      "metadata": {
        "id": "m-mJuvhriP5w"
      }
    },
    {
      "cell_type": "markdown",
      "source": [
        "---"
      ],
      "metadata": {
        "id": "vmKXysWmi80G"
      }
    },
    {
      "cell_type": "markdown",
      "source": [
        "### 2."
      ],
      "metadata": {
        "id": "m2IoleEyiilU"
      }
    },
    {
      "cell_type": "code",
      "source": [
        "dictionary = [\n",
        "    \"strategia\", \"progetto\", \"marketing\", \"vendite\", \"risorse\", \"budget\", \"cliente\", \"profitto\", \"team\", \"obiettivo\",\n",
        "    \"qualità\", \"innovazione\", \"processo\", \"report\", \"analisi\", \"fornitore\", \"logistica\", \"fattura\", \"contratto\", \"scadenza\",\n",
        "    \"collega\", \"meeting\", \"agenda\", \"risultato\", \"bilancio\", \"comunicazione\", \"investimento\", \"crescita\", \"network\", \"partner\",\n",
        "    \"sviluppo\", \"produttività\", \"efficienza\", \"soluzione\", \"formazione\", \"risultati\", \"azienda\", \"servizio\", \"organizzazione\",\n",
        "    \"leadership\", \"valore\", \"mercato\", \"innovazione\", \"relazione\", \"opportunità\", \"strategico\", \"competenza\", \"tecnologia\", \"risultato\"\n",
        "    ]\n",
        "\n",
        "query = input(\"Inserisci la parola: \")\n",
        "result = suggest_correction(query, dictionary)\n",
        "print(result)"
      ],
      "metadata": {
        "colab": {
          "base_uri": "https://localhost:8080/"
        },
        "outputId": "ef1a6fb7-f329-4f56-936b-7697564efbd3",
        "id": "NFFw_1KSiilV"
      },
      "execution_count": null,
      "outputs": [
        {
          "output_type": "stream",
          "name": "stdout",
          "text": [
            "Inserisci la parola: aoluzione\n",
            "La parola da te inserita non esiste la più simile a: 'aoluzione' è 'soluzione' con una distanza di: 1.\n"
          ]
        }
      ]
    },
    {
      "cell_type": "markdown",
      "source": [
        "**Esempio di utilizzo:** <br>  \n",
        "In questo caso, è stata inserita una parola errata: la lettera 'a' è stata usata al posto della lettera 's'.   \n",
        "L'output del programma suggerisce la parola corretta **\"soluzione\"**, come la più simile a quella inserita.\n"
      ],
      "metadata": {
        "id": "J9dK1gh1iilV"
      }
    },
    {
      "cell_type": "markdown",
      "source": [
        "---"
      ],
      "metadata": {
        "id": "UY2Rbg4XmfZr"
      }
    },
    {
      "cell_type": "markdown",
      "source": [
        "### 3."
      ],
      "metadata": {
        "id": "VEE0nYEwii4u"
      }
    },
    {
      "cell_type": "code",
      "source": [
        "dictionary = [\n",
        "    \"strategia\", \"progetto\", \"marketing\", \"vendite\", \"risorse\", \"budget\", \"cliente\", \"profitto\", \"team\", \"obiettivo\",\n",
        "    \"qualità\", \"innovazione\", \"processo\", \"report\", \"analisi\", \"fornitore\", \"logistica\", \"fattura\", \"contratto\", \"scadenza\",\n",
        "    \"collega\", \"meeting\", \"agenda\", \"risultato\", \"bilancio\", \"comunicazione\", \"investimento\", \"crescita\", \"network\", \"partner\",\n",
        "    \"sviluppo\", \"produttività\", \"efficienza\", \"soluzione\", \"formazione\", \"risultati\", \"azienda\", \"servizio\", \"organizzazione\",\n",
        "    \"leadership\", \"valore\", \"mercato\", \"innovazione\", \"relazione\", \"opportunità\", \"strategico\", \"competenza\", \"tecnologia\", \"risultato\"\n",
        "    ]\n",
        "\n",
        "query = input(\"Inserisci la parola: \")\n",
        "result = suggest_correction(query, dictionary)\n",
        "print(result)"
      ],
      "metadata": {
        "colab": {
          "base_uri": "https://localhost:8080/"
        },
        "outputId": "e90b031f-0b6e-4029-deed-e254415b8520",
        "id": "ieF9OsYIii4v"
      },
      "execution_count": null,
      "outputs": [
        {
          "output_type": "stream",
          "name": "stdout",
          "text": [
            "Inserisci la parola: risultat\n",
            "La parola da te inserita non esiste la più simile a: 'risultat' è 'risultato' con una distanza di: 1.\n"
          ]
        }
      ]
    },
    {
      "cell_type": "markdown",
      "source": [
        "**Esempio di utilizzo:** <br>  \n",
        "In questo caso, è stata inserita una parola errata: manca la lettera 'o'.   \n",
        "L'output del programma suggerisce la parola corretta **\"risultato\"**, come la più simile a quella inserita."
      ],
      "metadata": {
        "id": "OCaz70wJii4v"
      }
    },
    {
      "cell_type": "markdown",
      "source": [
        "---"
      ],
      "metadata": {
        "id": "pZo8VdVbmh3a"
      }
    },
    {
      "cell_type": "markdown",
      "source": [
        "### 4."
      ],
      "metadata": {
        "id": "AUFSeq1YijJH"
      }
    },
    {
      "cell_type": "code",
      "source": [
        "dictionary = [\n",
        "    \"strategia\", \"progetto\", \"marketing\", \"vendite\", \"risorse\", \"budget\", \"cliente\", \"profitto\", \"team\", \"obiettivo\",\n",
        "    \"qualità\", \"innovazione\", \"processo\", \"report\", \"analisi\", \"fornitore\", \"logistica\", \"fattura\", \"contratto\", \"scadenza\",\n",
        "    \"collega\", \"meeting\", \"agenda\", \"risultato\", \"bilancio\", \"comunicazione\", \"investimento\", \"crescita\", \"network\", \"partner\",\n",
        "    \"sviluppo\", \"produttività\", \"efficienza\", \"soluzione\", \"formazione\", \"risultati\", \"azienda\", \"servizio\", \"organizzazione\",\n",
        "    \"leadership\", \"valore\", \"mercato\", \"innovazione\", \"relazione\", \"opportunità\", \"strategico\", \"competenza\", \"tecnologia\", \"risultato\"\n",
        "    ]\n",
        "\n",
        "query = input(\"Inserisci la parola: \")\n",
        "result = suggest_correction(query, dictionary)\n",
        "print(result)"
      ],
      "metadata": {
        "colab": {
          "base_uri": "https://localhost:8080/"
        },
        "outputId": "03d3d229-6fbd-4cd7-f6e8-ba7c1a05d749",
        "id": "fYOfjiEbijJI"
      },
      "execution_count": null,
      "outputs": [
        {
          "output_type": "stream",
          "name": "stdout",
          "text": [
            "Inserisci la parola: progettto\n",
            "La parola da te inserita non esiste la più simile a: 'progettto' è 'progetto' con una distanza di: 1.\n"
          ]
        }
      ]
    },
    {
      "cell_type": "markdown",
      "source": [
        "**Esempio di utilizzo:** <br>  \n",
        "In questo caso, è stata inserita una parola errata: c'è una 't' in più.   \n",
        "L'output del programma suggerisce la parola corretta **\"progetto\"**, come la più simile a quella inserita."
      ],
      "metadata": {
        "id": "4t1WjRkeijJI"
      }
    },
    {
      "cell_type": "markdown",
      "source": [
        "---"
      ],
      "metadata": {
        "id": "ad-AepBYmjh-"
      }
    },
    {
      "cell_type": "markdown",
      "source": [
        "### 5."
      ],
      "metadata": {
        "id": "LCK1wgHeijWe"
      }
    },
    {
      "cell_type": "code",
      "source": [
        "dictionary = [\n",
        "    \"strategia\", \"progetto\", \"marketing\", \"vendite\", \"risorse\", \"budget\", \"cliente\", \"profitto\", \"team\", \"obiettivo\",\n",
        "    \"qualità\", \"innovazione\", \"processo\", \"report\", \"analisi\", \"fornitore\", \"logistica\", \"fattura\", \"contratto\", \"scadenza\",\n",
        "    \"collega\", \"meeting\", \"agenda\", \"risultato\", \"bilancio\", \"comunicazione\", \"investimento\", \"crescita\", \"network\", \"partner\",\n",
        "    \"sviluppo\", \"produttività\", \"efficienza\", \"soluzione\", \"formazione\", \"risultati\", \"azienda\", \"servizio\", \"organizzazione\",\n",
        "    \"leadership\", \"valore\", \"mercato\", \"innovazione\", \"relazione\", \"opportunità\", \"strategico\", \"competenza\", \"tecnologia\", \"risultato\"\n",
        "    ]\n",
        "\n",
        "query = input(\"Inserisci la parola: \")\n",
        "result = suggest_correction(query, dictionary)\n",
        "print(result)"
      ],
      "metadata": {
        "colab": {
          "base_uri": "https://localhost:8080/"
        },
        "outputId": "377968fa-22f1-41a0-eaee-3dcea497ca8d",
        "id": "sLBuPV-QijWf"
      },
      "execution_count": null,
      "outputs": [
        {
          "output_type": "stream",
          "name": "stdout",
          "text": [
            "Inserisci la parola: tecnologia\n",
            "tecnologia\n"
          ]
        }
      ]
    },
    {
      "cell_type": "markdown",
      "source": [
        "**Esempio di utilizzo:** <br>  \n",
        "In questo caso, è stata inserita una parola corretta già presente nel dizionario.   \n",
        "L'output restituito dal programma è la stessa parola, confermando che non sono necessarie correzioni."
      ],
      "metadata": {
        "id": "exERCotYijWf"
      }
    },
    {
      "cell_type": "markdown",
      "source": [
        "---"
      ],
      "metadata": {
        "id": "ZKHftcpcmlQP"
      }
    },
    {
      "cell_type": "markdown",
      "source": [
        "### 6."
      ],
      "metadata": {
        "id": "DNlAo8qeije2"
      }
    },
    {
      "cell_type": "code",
      "source": [
        "dictionary = [\n",
        "    \"strategia\", \"progetto\", \"marketing\", \"vendite\", \"risorse\", \"budget\", \"cliente\", \"profitto\", \"team\", \"obiettivo\",\n",
        "    \"qualità\", \"innovazione\", \"processo\", \"report\", \"analisi\", \"fornitore\", \"logistica\", \"fattura\", \"contratto\", \"scadenza\",\n",
        "    \"collega\", \"meeting\", \"agenda\", \"risultato\", \"bilancio\", \"comunicazione\", \"investimento\", \"crescita\", \"network\", \"partner\",\n",
        "    \"sviluppo\", \"produttività\", \"efficienza\", \"soluzione\", \"formazione\", \"risultati\", \"azienda\", \"servizio\", \"organizzazione\",\n",
        "    \"leadership\", \"valore\", \"mercato\", \"innovazione\", \"relazione\", \"opportunità\", \"strategico\", \"competenza\", \"tecnologia\", \"risultato\"\n",
        "    ]\n",
        "\n",
        "query = input(\"Inserisci la parola: \")\n",
        "result = suggest_correction(query, dictionary)\n",
        "print(result)"
      ],
      "metadata": {
        "colab": {
          "base_uri": "https://localhost:8080/"
        },
        "outputId": "fd71db8b-1ffa-4999-9d75-0c1839d1c4a9",
        "id": "8923bqGiije3"
      },
      "execution_count": null,
      "outputs": [
        {
          "output_type": "stream",
          "name": "stdout",
          "text": [
            "Inserisci la parola: miiting\n",
            "La parola da te inserita non esiste la più simile a: 'miiting' è 'meeting' con una distanza di: 2.\n"
          ]
        }
      ]
    },
    {
      "cell_type": "markdown",
      "source": [
        "**Esempio di utilizzo:** <br>  \n",
        "In questo caso, è stata inserita una parola errata: due lettere 'i' sono state usate al posto di due lettere 'e'.   \n",
        "L'output del programma suggerisce la parola corretta **\"meeting\"**, come la più simile a quella inserita."
      ],
      "metadata": {
        "id": "lApi5oIcije3"
      }
    },
    {
      "cell_type": "markdown",
      "source": [
        "---"
      ],
      "metadata": {
        "id": "Vc6txZrnmneI"
      }
    },
    {
      "cell_type": "markdown",
      "source": [
        "### 7."
      ],
      "metadata": {
        "id": "u3dER2baikW-"
      }
    },
    {
      "cell_type": "code",
      "source": [
        "dictionary = [\n",
        "    \"strategia\", \"progetto\", \"marketing\", \"vendite\", \"risorse\", \"budget\", \"cliente\", \"profitto\", \"team\", \"obiettivo\",\n",
        "    \"qualità\", \"innovazione\", \"processo\", \"report\", \"analisi\", \"fornitore\", \"logistica\", \"fattura\", \"contratto\", \"scadenza\",\n",
        "    \"collega\", \"meeting\", \"agenda\", \"risultato\", \"bilancio\", \"comunicazione\", \"investimento\", \"crescita\", \"network\", \"partner\",\n",
        "    \"sviluppo\", \"produttività\", \"efficienza\", \"soluzione\", \"formazione\", \"risultati\", \"azienda\", \"servizio\", \"organizzazione\",\n",
        "    \"leadership\", \"valore\", \"mercato\", \"innovazione\", \"relazione\", \"opportunità\", \"strategico\", \"competenza\", \"tecnologia\", \"risultato\"\n",
        "    ]\n",
        "\n",
        "query = input(\"Inserisci la parola: \")\n",
        "result = suggest_correction(query, dictionary)\n",
        "print(result)"
      ],
      "metadata": {
        "colab": {
          "base_uri": "https://localhost:8080/"
        },
        "outputId": "cb3f83b4-a536-4251-ed61-e794a739c25b",
        "id": "D6snoZpsikW_"
      },
      "execution_count": null,
      "outputs": [
        {
          "output_type": "stream",
          "name": "stdout",
          "text": [
            "Inserisci la parola: obietivo\n",
            "La parola da te inserita non esiste la più simile a: 'obietivo' è 'obiettivo' con una distanza di: 1.\n"
          ]
        }
      ]
    },
    {
      "cell_type": "markdown",
      "source": [
        "**Esempio di utilizzo:** <br>  \n",
        "In questo caso, è stata inserita una parola errata: manca un'altra lettera 't'.   \n",
        "L'output del programma suggerisce la parola corretta **\"obiettivo\"**, come la più simile a quella inserita."
      ],
      "metadata": {
        "id": "sap5iIouikW_"
      }
    },
    {
      "cell_type": "markdown",
      "source": [
        "---"
      ],
      "metadata": {
        "id": "gbF9idKHmpRd"
      }
    },
    {
      "cell_type": "markdown",
      "source": [
        "### 8."
      ],
      "metadata": {
        "id": "pHhLFrpKikeT"
      }
    },
    {
      "cell_type": "code",
      "source": [
        "dictionary = [\n",
        "    \"strategia\", \"progetto\", \"marketing\", \"vendite\", \"risorse\", \"budget\", \"cliente\", \"profitto\", \"team\", \"obiettivo\",\n",
        "    \"qualità\", \"innovazione\", \"processo\", \"report\", \"analisi\", \"fornitore\", \"logistica\", \"fattura\", \"contratto\", \"scadenza\",\n",
        "    \"collega\", \"meeting\", \"agenda\", \"risultato\", \"bilancio\", \"comunicazione\", \"investimento\", \"crescita\", \"network\", \"partner\",\n",
        "    \"sviluppo\", \"produttività\", \"efficienza\", \"soluzione\", \"formazione\", \"risultati\", \"azienda\", \"servizio\", \"organizzazione\",\n",
        "    \"leadership\", \"valore\", \"mercato\", \"innovazione\", \"relazione\", \"opportunità\", \"strategico\", \"competenza\", \"tecnologia\", \"risultato\"\n",
        "    ]\n",
        "\n",
        "query = input(\"Inserisci la parola: \")\n",
        "result = suggest_correction(query, dictionary)\n",
        "print(result)"
      ],
      "metadata": {
        "colab": {
          "base_uri": "https://localhost:8080/"
        },
        "outputId": "6c1bd61b-a421-4b3d-c6e1-04ec013b46c3",
        "id": "IMQGuV3PikeT"
      },
      "execution_count": null,
      "outputs": [
        {
          "output_type": "stream",
          "name": "stdout",
          "text": [
            "Inserisci la parola: aziendaa\n",
            "La parola da te inserita non esiste la più simile a: 'aziendaa' è 'azienda' con una distanza di: 1.\n"
          ]
        }
      ]
    },
    {
      "cell_type": "markdown",
      "source": [
        "**Esempio di utilizzo:** <br>  \n",
        "In questo caso, è stata inserita una parola errata: c'è una 'a' in più.   \n",
        "L'output del programma suggerisce la parola corretta **\"azienda\"**, come la più simile a quella inserita."
      ],
      "metadata": {
        "id": "S2EnOm-kikeT"
      }
    },
    {
      "cell_type": "markdown",
      "source": [
        "---"
      ],
      "metadata": {
        "id": "9BLO-Dxomq5s"
      }
    },
    {
      "cell_type": "markdown",
      "source": [
        "### 9."
      ],
      "metadata": {
        "id": "V5Quapg6ikkP"
      }
    },
    {
      "cell_type": "code",
      "source": [
        "dictionary = [\n",
        "    \"strategia\", \"progetto\", \"marketing\", \"vendite\", \"risorse\", \"budget\", \"cliente\", \"profitto\", \"team\", \"obiettivo\",\n",
        "    \"qualità\", \"innovazione\", \"processo\", \"report\", \"analisi\", \"fornitore\", \"logistica\", \"fattura\", \"contratto\", \"scadenza\",\n",
        "    \"collega\", \"meeting\", \"agenda\", \"risultato\", \"bilancio\", \"comunicazione\", \"investimento\", \"crescita\", \"network\", \"partner\",\n",
        "    \"sviluppo\", \"produttività\", \"efficienza\", \"soluzione\", \"formazione\", \"risultati\", \"azienda\", \"servizio\", \"organizzazione\",\n",
        "    \"leadership\", \"valore\", \"mercato\", \"innovazione\", \"relazione\", \"opportunità\", \"strategico\", \"competenza\", \"tecnologia\", \"risultato\"\n",
        "    ]\n",
        "\n",
        "query = input(\"Inserisci la parola: \")\n",
        "result = suggest_correction(query, dictionary)\n",
        "print(result)"
      ],
      "metadata": {
        "colab": {
          "base_uri": "https://localhost:8080/"
        },
        "outputId": "8dd894ae-fe07-4a9f-86a9-8d7efb31444b",
        "id": "bLnTGtKlikkP"
      },
      "execution_count": null,
      "outputs": [
        {
          "output_type": "stream",
          "name": "stdout",
          "text": [
            "Inserisci la parola: opportunita\n",
            "La parola da te inserita non esiste la più simile a: 'opportunita' è 'opportunità' con una distanza di: 1.\n"
          ]
        }
      ]
    },
    {
      "cell_type": "markdown",
      "source": [
        "**Esempio di utilizzo:** <br>  \n",
        "In questo caso, è stata inserita una parola errata: è stata inserita la 'a' al posto della 'à'.   \n",
        "L'output del programma suggerisce la parola corretta **\"opportunità\"**, come la più simile a quella inserita."
      ],
      "metadata": {
        "id": "PAvWvCB6ikkQ"
      }
    },
    {
      "cell_type": "markdown",
      "source": [
        "---"
      ],
      "metadata": {
        "id": "TZvU7epGms0-"
      }
    },
    {
      "cell_type": "markdown",
      "source": [
        "### 10."
      ],
      "metadata": {
        "id": "GNcdtdL3iyhh"
      }
    },
    {
      "cell_type": "code",
      "source": [
        "dictionary = [\n",
        "    \"strategia\", \"progetto\", \"marketing\", \"vendite\", \"risorse\", \"budget\", \"cliente\", \"profitto\", \"team\", \"obiettivo\",\n",
        "    \"qualità\", \"innovazione\", \"processo\", \"report\", \"analisi\", \"fornitore\", \"logistica\", \"fattura\", \"contratto\", \"scadenza\",\n",
        "    \"collega\", \"meeting\", \"agenda\", \"risultato\", \"bilancio\", \"comunicazione\", \"investimento\", \"crescita\", \"network\", \"partner\",\n",
        "    \"sviluppo\", \"produttività\", \"efficienza\", \"soluzione\", \"formazione\", \"risultati\", \"azienda\", \"servizio\", \"organizzazione\",\n",
        "    \"leadership\", \"valore\", \"mercato\", \"innovazione\", \"relazione\", \"opportunità\", \"strategico\", \"competenza\", \"tecnologia\", \"risultato\"\n",
        "    ]\n",
        "\n",
        "query = input(\"Inserisci la parola: \")\n",
        "result = suggest_correction(query, dictionary)\n",
        "print(result)"
      ],
      "metadata": {
        "colab": {
          "base_uri": "https://localhost:8080/"
        },
        "outputId": "0ddd9fae-0b15-4bb9-e898-5e1e65d77dfd",
        "id": "StD4CO3iihYw"
      },
      "execution_count": null,
      "outputs": [
        {
          "output_type": "stream",
          "name": "stdout",
          "text": [
            "Inserisci la parola: proprietà\n",
            "La parola da te inserita non esiste la più simile a: 'proprietà' è 'profitto' con una distanza di: 4.\n"
          ]
        }
      ]
    },
    {
      "cell_type": "markdown",
      "source": [
        "**Esempio di utilizzo:** <br>  \n",
        "In questo caso, è stata inserita una parola errata: la parola è completamente sbagliata.   \n",
        "L'output del programma suggerisce la parola corretta **\"profitto\"**, come la più simile a quella inserita."
      ],
      "metadata": {
        "id": "YDvkejL4ihYw"
      }
    },
    {
      "cell_type": "markdown",
      "source": [
        "---"
      ],
      "metadata": {
        "id": "X8fPXoAYmuFG"
      }
    }
  ]
}